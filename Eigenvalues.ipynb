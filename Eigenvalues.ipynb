{
 "cells": [
  {
   "cell_type": "code",
   "execution_count": 1,
   "metadata": {
    "collapsed": true
   },
   "outputs": [],
   "source": [
    "from __future__ import division\n",
    "from sympy import *\n",
    "x, y, z, t = symbols('x y z t')\n",
    "k, m, n = symbols('k m n', integer=True)\n",
    "f, g, h = symbols('f g h', cls=Function)\n",
    "import numpy as np"
   ]
  },
  {
   "cell_type": "code",
   "execution_count": 2,
   "metadata": {
    "collapsed": false
   },
   "outputs": [],
   "source": [
    "D = Matrix([[(-x-y)/4.,x/2.,y/4.],[x/2.,(-2.0*x),x/2.],[y/4.,x/2.,(-x-y)/4.]])"
   ]
  },
  {
   "cell_type": "code",
   "execution_count": 3,
   "metadata": {
    "collapsed": false
   },
   "outputs": [
    {
     "name": "stdout",
     "output_type": "stream",
     "text": [
      "Matrix([\n",
      "[1.0,   0,   0],\n",
      "[  0, 1.0,   0],\n",
      "[  0,   0, 1.0]])\n"
     ]
    }
   ],
   "source": [
    "M = Matrix([[(1./np.sqrt(3.)),(1./np.sqrt(6.)),(1./np.sqrt(2.))],[(1./np.sqrt(3.)),-(2./np.sqrt(6.)),0.],[(1./np.sqrt(3.)),(1./np.sqrt(6.)),-(1./np.sqrt(2.))]])\n",
    "MT=transpose(M)\n",
    "T=MT*M\n",
    "print(T)"
   ]
  },
  {
   "cell_type": "code",
   "execution_count": 4,
   "metadata": {
    "collapsed": true
   },
   "outputs": [],
   "source": [
    "DD = MT*D*M"
   ]
  },
  {
   "cell_type": "code",
   "execution_count": 5,
   "metadata": {
    "collapsed": false
   },
   "outputs": [
    {
     "name": "stdout",
     "output_type": "stream",
     "text": [
      "Matrix([\n",
      "[-0.166666666666667*x,  0.58925565098879*x,               0],\n",
      "[  0.58925565098879*x, -2.08333333333333*x,               0],\n",
      "[                   0,                   0, -0.25*x - 0.5*y]])\n"
     ]
    }
   ],
   "source": [
    "print(DD)"
   ]
  },
  {
   "cell_type": "code",
   "execution_count": null,
   "metadata": {
    "collapsed": false
   },
   "outputs": [],
   "source": []
  },
  {
   "cell_type": "code",
   "execution_count": null,
   "metadata": {
    "collapsed": true
   },
   "outputs": [],
   "source": []
  }
 ],
 "metadata": {
  "anaconda-cloud": {},
  "kernelspec": {
   "display_name": "Python [conda root]",
   "language": "python",
   "name": "conda-root-py"
  },
  "language_info": {
   "codemirror_mode": {
    "name": "ipython",
    "version": 3
   },
   "file_extension": ".py",
   "mimetype": "text/x-python",
   "name": "python",
   "nbconvert_exporter": "python",
   "pygments_lexer": "ipython3",
   "version": "3.5.2"
  }
 },
 "nbformat": 4,
 "nbformat_minor": 1
}
